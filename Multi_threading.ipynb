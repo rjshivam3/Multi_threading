{
 "cells": [
  {
   "cell_type": "code",
   "execution_count": 5,
   "id": "377123d2-cda6-4459-ac4a-4601d15af520",
   "metadata": {},
   "outputs": [
    {
     "data": {
      "text/plain": [
       "'Q1. What is multithreading in python? hy is it used? Name the module used to handle threads in python'"
      ]
     },
     "execution_count": 5,
     "metadata": {},
     "output_type": "execute_result"
    }
   ],
   "source": [
    "\"\"\"Q1. What is multithreading in python? hy is it used? Name the module used to handle threads in python\"\"\"\n",
    "\n"
   ]
  },
  {
   "cell_type": "code",
   "execution_count": 6,
   "id": "d130579c-1f60-40dc-b20e-96af604cacc7",
   "metadata": {},
   "outputs": [
    {
     "data": {
      "text/plain": [
       "\"Multithreading in Python involves running multiple threads simultaneously within a single process. It's used to improve efficiency by allowing concurrent execution of tasks, especially useful for I/O-bound operations and parallel processing. The `threading` module is used to handle threads in Python, providing a high-level interface for thread management.\""
      ]
     },
     "execution_count": 6,
     "metadata": {},
     "output_type": "execute_result"
    }
   ],
   "source": [
    "#Answer\n",
    "\"\"\"Multithreading in Python involves running multiple threads simultaneously within a single process. It's used to improve efficiency by allowing concurrent execution of tasks, especially useful for I/O-bound operations and parallel processing. The `threading` module is used to handle threads in Python, providing a high-level interface for thread management.\"\"\"\n"
   ]
  },
  {
   "cell_type": "code",
   "execution_count": 7,
   "id": "c092acb4-a83a-4785-a78b-17f0c7af38dc",
   "metadata": {},
   "outputs": [
    {
     "data": {
      "text/plain": [
       "'Q2. Why threading module used? rite the use of the following functions\\n\\nactiveCount()\\ncurrentThread()\\nenumerate()'"
      ]
     },
     "execution_count": 7,
     "metadata": {},
     "output_type": "execute_result"
    }
   ],
   "source": [
    "\"\"\"Q2. Why threading module used? rite the use of the following functions\n",
    "\n",
    "activeCount()\n",
    "currentThread()\n",
    "enumerate()\"\"\""
   ]
  },
  {
   "cell_type": "code",
   "execution_count": null,
   "id": "5459b2c7-637e-459d-ac71-9cbbd39a2572",
   "metadata": {},
   "outputs": [],
   "source": [
    "#Answer\n",
    "\n",
    "\"\"\"The `threading` module in Python is used for handling threads. It provides a high-level interface for creating, managing, and synchronizing threads. Here's the use of the mentioned functions:\n",
    "\n",
    "1. `activeCount()`: This function returns the number of Thread objects currently alive. It's useful for getting a count of active threads in the current Python process.\n",
    "\n",
    "2. `currentThread()`: This function returns the current Thread object, representing the thread from which it is called. It's useful for obtaining information about the current thread, such as its name or identification.\n",
    "\n",
    "3. `enumerate()`: This function returns a list of all Thread objects currently alive. It's useful for iterating over all active threads in the current Python process, allowing you to perform operations or gather information about each thread.\n",
    "\n",
    "These functions are handy for monitoring and managing threads within a Python program.\"\"\""
   ]
  },
  {
   "cell_type": "code",
   "execution_count": 8,
   "id": "2c60a3f6-6b72-43d1-8107-4fc366f9aa0d",
   "metadata": {},
   "outputs": [
    {
     "data": {
      "text/plain": [
       "\"\\n1. run(): This method is used to define the behavior of the thread when it is started. You typically override this method in a subclass of threading.Thread to specify the code that should be executed when the thread is started. You should not call this method directly; it is invoked automatically when you call the start() method on a Thread object.\\n2. start(): This method is used to start the execution of the thread. When you call start(), Python allocates system resources for the thread and calls the run() method to begin execution of the thread's code. It's essential to call start() to kick off the thread; otherwise, the thread remains in a dormant state.\\n3. join(): This method is used to wait for the thread to complete its execution. When you call join() on a Thread object, the calling thread blocks until the target thread finishes executing. This is useful for synchronization, ensuring that certain operations are performed only after a thread has completed its task.\\n4. isAlive(): This method is used to check if the thread is currently executing or if it has finished its execution. It returns True if the thread is still running (i.e., it hasn't completed execution) and False otherwise. This method is often used to check the status of a thread before performing certain operations that depend on the thread's state.\\n\""
      ]
     },
     "execution_count": 8,
     "metadata": {},
     "output_type": "execute_result"
    }
   ],
   "source": [
    "#Q.3 Explain the following functions run() start() join() isAlive()\n",
    "\n",
    "\"\"\"\n",
    "1. run(): This method is used to define the behavior of the thread when it is started. You typically override this method in a subclass of threading.Thread to specify the code that should be executed when the thread is started. You should not call this method directly; it is invoked automatically when you call the start() method on a Thread object.\n",
    "2. start(): This method is used to start the execution of the thread. When you call start(), Python allocates system resources for the thread and calls the run() method to begin execution of the thread's code. It's essential to call start() to kick off the thread; otherwise, the thread remains in a dormant state.\n",
    "3. join(): This method is used to wait for the thread to complete its execution. When you call join() on a Thread object, the calling thread blocks until the target thread finishes executing. This is useful for synchronization, ensuring that certain operations are performed only after a thread has completed its task.\n",
    "4. isAlive(): This method is used to check if the thread is currently executing or if it has finished its execution. It returns True if the thread is still running (i.e., it hasn't completed execution) and False otherwise. This method is often used to check the status of a thread before performing certain operations that depend on the thread's state.\n",
    "\"\"\"\n"
   ]
  },
  {
   "cell_type": "code",
   "execution_count": 12,
   "id": "8341dd7e-eada-46bf-8f76-0084b9f81b31",
   "metadata": {},
   "outputs": [
    {
     "name": "stdout",
     "output_type": "stream",
     "text": [
      "List of squares: [1, 4, 9, 16, 25, 36, 49, 64, 81, 100]\n",
      "List of cubes: [1, 8, 27, 64, 125, 216, 343, 512, 729, 1000]\n"
     ]
    }
   ],
   "source": [
    "\"\"\"Q4. rite a python program to create two threads. Thread one must print the list of squares and thread\n",
    "two must print the list of cubes\"\"\"\n",
    "\n",
    "import threading\n",
    "\n",
    "def print_squares(numbers):\n",
    "    squares = [num ** 2 for num in numbers]\n",
    "    print(\"List of squares:\", squares)\n",
    "\n",
    "def print_cubes(numbers):\n",
    "    cubes = [num ** 3 for num in numbers]\n",
    "    print(\"List of cubes:\", cubes)\n",
    "\n",
    "def main():\n",
    "    numbers = list(range(1, 11))\n",
    "\n",
    "\n",
    "    thread1 = threading.Thread(target=print_squares, args=(numbers,))\n",
    "    thread2 = threading.Thread(target=print_cubes, args=(numbers,))\n",
    "\n",
    "\n",
    "    thread1.start()\n",
    "    thread2.start()\n",
    "\n",
    "\n",
    "    thread1.join()\n",
    "    thread2.join()\n",
    "\n",
    "if __name__ == \"__main__\":\n",
    "    main()"
   ]
  },
  {
   "cell_type": "code",
   "execution_count": 14,
   "id": "558520f9-4e1a-4616-8164-f5e9728d18ec",
   "metadata": {},
   "outputs": [
    {
     "data": {
      "text/plain": [
       "'\\nAdvantages of Multithreading:\\n1. Improved Responsiveness\\n2. Enhanced Performance\\n3. Resource Sharing\\n4. Simplified Code\\n5. Concurrency\\n\\nDisadvantages of Multithreading:\\n1. Complexity\\n2. Difficulty in Debugging\\n3. Resource Contentions\\n4. Increased Overhead\\n5. Potential for Deadlocks and Race Conditions\\n'"
      ]
     },
     "execution_count": 14,
     "metadata": {},
     "output_type": "execute_result"
    }
   ],
   "source": [
    "#Q.5 State advantages and disadvantages of multithreading\n",
    "\"\"\"\n",
    "Advantages of Multithreading:\n",
    "1. Improved Responsiveness\n",
    "2. Enhanced Performance\n",
    "3. Resource Sharing\n",
    "4. Simplified Code\n",
    "5. Concurrency\n",
    "\n",
    "Disadvantages of Multithreading:\n",
    "1. Complexity\n",
    "2. Difficulty in Debugging\n",
    "3. Resource Contentions\n",
    "4. Increased Overhead\n",
    "5. Potential for Deadlocks and Race Conditions\n",
    "\"\"\""
   ]
  },
  {
   "cell_type": "code",
   "execution_count": 15,
   "id": "c6390f19-9830-4409-bfba-fc7a1c37fb8b",
   "metadata": {},
   "outputs": [
    {
     "data": {
      "text/plain": [
       "'\\nDeadlocks: Threads are stuck waiting for each other indefinitely, often due to circular dependencies on resources.\\n\\nRace Conditions: Program behavior depends on the timing of operations by multiple threads accessing shared resources, leading to unexpected outcomes.\\n'"
      ]
     },
     "execution_count": 15,
     "metadata": {},
     "output_type": "execute_result"
    }
   ],
   "source": [
    "#Q.6 6. Explain deadlocks and race conditions.\n",
    "\n",
    "\"\"\"\n",
    "Deadlocks: Threads are stuck waiting for each other indefinitely, often due to circular dependencies on resources.\n",
    "\n",
    "Race Conditions: Program behavior depends on the timing of operations by multiple threads accessing shared resources, leading to unexpected outcomes.\n",
    "\"\"\""
   ]
  },
  {
   "cell_type": "code",
   "execution_count": null,
   "id": "eb6bb00f-c05a-4951-a095-51eb948af5bc",
   "metadata": {},
   "outputs": [],
   "source": []
  }
 ],
 "metadata": {
  "kernelspec": {
   "display_name": "Python 3 (ipykernel)",
   "language": "python",
   "name": "python3"
  },
  "language_info": {
   "codemirror_mode": {
    "name": "ipython",
    "version": 3
   },
   "file_extension": ".py",
   "mimetype": "text/x-python",
   "name": "python",
   "nbconvert_exporter": "python",
   "pygments_lexer": "ipython3",
   "version": "3.10.8"
  }
 },
 "nbformat": 4,
 "nbformat_minor": 5
}
